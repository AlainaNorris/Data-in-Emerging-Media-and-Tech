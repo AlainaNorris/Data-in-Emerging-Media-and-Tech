{
 "cells": [
  {
   "cell_type": "markdown",
   "id": "909b371c-b1b7-4468-829c-2278e0191fd3",
   "metadata": {},
   "source": [
    "## Section 1 — Report Header & Hypothesis"
   ]
  },
  {
   "cell_type": "markdown",
   "id": "3bc959aa-1936-44d7-8cb8-bc634c6c19f2",
   "metadata": {},
   "source": [
    "- API Data Report\n",
    "- Alaina Norris \n",
    "- Date: 2025-10-08"
   ]
  },
  {
   "cell_type": "markdown",
   "id": "ecddc233-5081-4aaf-9a51-30f60552f502",
   "metadata": {},
   "source": [
    "### Hypothesis"
   ]
  },
  {
   "cell_type": "markdown",
   "id": "082d8493-e8f9-4dae-a588-c4a57ae35d2e",
   "metadata": {},
   "source": [
    "Accounts that have more followers also tend to have more posts than accounts with less followers."
   ]
  },
  {
   "cell_type": "markdown",
   "id": "8f981136-820c-4d15-95d9-3e1d916b0e13",
   "metadata": {},
   "source": [
    "### Theoretical Rationale"
   ]
  },
  {
   "cell_type": "markdown",
   "id": "9847324e-61cc-46a3-a0e3-3b21a205bb05",
   "metadata": {},
   "source": [
    "The reasoning behind my hypothesis of \"Accounts that have more followers also tend to have more posts than accounts with less followers.\" is that people tend to follow people who post more, since then it is easier to keep up with their posts. More popularly followed people such as brands and celebrities also tend to have more followers, and with that also have more things that they post. I think that people who have more followers would have more posts since people are less likely to follow someone who does not post, since then there is not much of a reason to follow the account in order to keep up with them."
   ]
  },
  {
   "cell_type": "markdown",
   "id": "81332631-7eed-4a72-b3b2-06b5d049cd8d",
   "metadata": {},
   "source": [
    "### Statistical Application"
   ]
  },
  {
   "cell_type": "markdown",
   "id": "05ad74dd-19fc-461a-8341-b0bc24166bee",
   "metadata": {},
   "source": [
    "In order to test this hypothesis statistically, I would like to pull the data of accounts number of followers, as well as the acccounts number of posts. Then I should be able to see (most likely though a graph) that the accounts who tend to have a higher number of posts also have a higher number of followers. If this were to be turned into a graph it would be a positive correlation between followers and posts, meaning the people who post much less also have less followers. The important columns for this would be Account, # of posts, # of followers. "
   ]
  },
  {
   "cell_type": "markdown",
   "id": "1bc79e2a-97b0-4b29-9cf7-bf1dd9db6310",
   "metadata": {},
   "source": [
    "## Section 2 — Endpoint Plan (Design Your Data Collection)"
   ]
  },
  {
   "cell_type": "markdown",
   "id": "b02bee4c-843a-4c69-97f9-7017be3ed4b4",
   "metadata": {},
   "source": [
    "The Bluesky API endpoints I am identfiying and planning to use include:\n",
    "\n",
    "- app.bsky.actor.searchActors \n",
    "- app.bsky.actor.getProfiles\n",
    "\n",
    "These endpoints (while I may not use all of them) will allow me to see the information and get the accounts I need as well as get my data in order to analyze it. I will also be able to get the profile information for the different accounts I am using to analyze. This should include the number of followers that the account has, and the number of posts that the account has also. \n",
    "\n",
    "In order to find whether accounts that usually post more have more followers, I will need to use the key request parameters of actors / postsCount / followersCount/ and most likley handle. These will be able to show me the connection between the number of posts and the number of followers that the users have, and may be helpful for me to make some form of chart out of the data for a visual. \n"
   ]
  },
  {
   "cell_type": "markdown",
   "id": "1d9ebe56-ecdb-4ab8-b0a8-9ff4d3fea346",
   "metadata": {},
   "source": [
    "### Reliabilit and Bias"
   ]
  },
  {
   "cell_type": "markdown",
   "id": "7119ae96-7e3c-4c0e-954e-b77f7d65dfc3",
   "metadata": {},
   "source": [
    "Discuss how the data might be reliable and unreliable. Consider:\n",
    "\n",
    "Some of the data may be unreliable, especially if the accounts have certain privacy settings or they have hidden data. If an account is too new then it may not have an accurate number for the followers and posts. There may be accounts that are outliers and do not follow my expected pattern for this hypothesis such as bot accounts or spam accounts, who may not have any or many followers but post many posts. If there are deleted posts then its possible that the accounts gained lots of followers from their posting and then once they deleted the posts they retained the followers. These datapoints are fairly ethical to collect, as the number of posts and followers that an account has are typically things you can see even on private accounts. \n"
   ]
  },
  {
   "cell_type": "markdown",
   "id": "e056c3cd-4efd-4591-921a-344354ab5e3e",
   "metadata": {},
   "source": [
    "### Limitations"
   ]
  },
  {
   "cell_type": "markdown",
   "id": "29a45b9b-e7c2-42a5-9545-9e81aec97da6",
   "metadata": {},
   "source": [
    "Some caveats in the response objects for this could be if there were delayed counts, since it is possible that there is not a constantly updated information and it is not exactly accurate. There could also be some missing data. There is a chance of some missing data or some caveats with the follower and posts number information especially if there were something like a new account / bot account/ or account that is under inspection for violations of standards. "
   ]
  },
  {
   "cell_type": "markdown",
   "id": "33b1f194-3a2c-4a8c-9cbe-e865c110edec",
   "metadata": {},
   "source": [
    "## Section 3 Data Collection"
   ]
  },
  {
   "cell_type": "markdown",
   "id": "adcc8329-3d9b-4b1b-9f33-6a7760b7610b",
   "metadata": {},
   "source": [
    "Collect posts that match a query. Adjust QUERY, MAX_POSTS, and any filters your hypothesis requires."
   ]
  },
  {
   "cell_type": "markdown",
   "id": "983a010f-8fda-4936-b0d6-d85e481c2bbc",
   "metadata": {},
   "source": [
    "### Data Collection (Endpoint 1):"
   ]
  },
  {
   "cell_type": "code",
   "execution_count": 56,
   "id": "38cfc034-de4b-4415-8762-070d11cdf8a4",
   "metadata": {},
   "outputs": [],
   "source": [
    "## used code and notes from previous class on sept 29 for help in this section.\n",
    "import requests\n",
    "import time\n",
    "import json as js\n",
    "import pandas as pd\n",
    "\n",
    "BASE_URL = \"https://api.bsky.app/xrpc\""
   ]
  },
  {
   "cell_type": "code",
   "execution_count": 87,
   "id": "62ac24d6-b353-4e16-aabc-a2e697a0704d",
   "metadata": {},
   "outputs": [
    {
     "name": "stdout",
     "output_type": "stream",
     "text": [
      "Status: 401\n",
      "Top level keys: ['error', 'message']\n"
     ]
    }
   ],
   "source": [
    "## used code and notes from previous class on sept 29 for help in this section.\n",
    "BASE_URL = \"https://bsky.social/xrpc\"\n",
    "endpoint = f\"{BASE_URL}/app.bsky.feed.searchPosts\"\n",
    "\n",
    "params = {\n",
    "    \"q\": \"social media\",   \n",
    "    \"limit\": 10            \n",
    "}\n",
    "\n",
    "resp = requests.get(endpoint, params=params, headers=headers)\n",
    "\n",
    "print(\"Status:\", resp.status_code)\n",
    "\n",
    "data = resp.json()\n",
    "print(\"Top level keys:\", list(data.keys()))"
   ]
  },
  {
   "cell_type": "code",
   "execution_count": 88,
   "id": "0c702028-5750-42c4-b1ff-c0d2bc19a8f3",
   "metadata": {},
   "outputs": [],
   "source": [
    "## used code and notes from previous class on sept 29 for help in this section.\n",
    "posts = data.get(\"posts\", []) or data.get(\"feed\", [])\n",
    "collected = []\n",
    "for post in posts:\n",
    "    author = post.get(\"author\", {})\n",
    "\n",
    "cursor = data.get(\"cursor\")"
   ]
  },
  {
   "cell_type": "code",
   "execution_count": 89,
   "id": "a67005a0-4aa7-4182-80ae-fa83da03069d",
   "metadata": {},
   "outputs": [],
   "source": [
    "rows = []\n",
    "for p in posts:\n",
    "    author = p.get(\"author\", {})\n",
    "    record = p.get(\"record\", {})\n",
    "\n",
    "    stats = {\n",
    "        \"post_uri\": p.get(\"uri\"),\n",
    "        \"likeCount\": p.get(\"likeCount\"),\n",
    "        \"repostCount\": p.get(\"repostCount\"),\n",
    "        \"author_handle\": author.get(\"handle\"),\n",
    "        \"author_displayName\": author.get(\"displayName\"),\n",
    "    }\n",
    "    rows.append(stats)"
   ]
  },
  {
   "cell_type": "code",
   "execution_count": 90,
   "id": "48f6ba11-8b4e-4ed5-b6f4-f43a2a4813b4",
   "metadata": {},
   "outputs": [
    {
     "name": "stdout",
     "output_type": "stream",
     "text": [
      "Error fetching profile for did:plc:wmkln3rotsdsh2jxwsqry4ge: 401 Client Error: Unauthorized for url: https://bsky.social/xrpc/app.bsky.actor.getProfile?actor=did%3Aplc%3Awmkln3rotsdsh2jxwsqry4ge\n",
      "Error fetching profile for did:plc:3drlkjem5kndj5jskrbprrjd: 401 Client Error: Unauthorized for url: https://bsky.social/xrpc/app.bsky.actor.getProfile?actor=did%3Aplc%3A3drlkjem5kndj5jskrbprrjd\n",
      "Error fetching profile for did:plc:d7jn5n4nawuc7ijk2ew7aukj: 401 Client Error: Unauthorized for url: https://bsky.social/xrpc/app.bsky.actor.getProfile?actor=did%3Aplc%3Ad7jn5n4nawuc7ijk2ew7aukj\n",
      "Error fetching profile for did:plc:rjscsr7qexxigyhnjctym4bk: 401 Client Error: Unauthorized for url: https://bsky.social/xrpc/app.bsky.actor.getProfile?actor=did%3Aplc%3Arjscsr7qexxigyhnjctym4bk\n",
      "Error fetching profile for did:plc:mvw7btcxe6jgznss25lcmus7: 401 Client Error: Unauthorized for url: https://bsky.social/xrpc/app.bsky.actor.getProfile?actor=did%3Aplc%3Amvw7btcxe6jgznss25lcmus7\n",
      "Error fetching profile for did:plc:yccjvu6zkycgery37xe2kp2e: 401 Client Error: Unauthorized for url: https://bsky.social/xrpc/app.bsky.actor.getProfile?actor=did%3Aplc%3Ayccjvu6zkycgery37xe2kp2e\n",
      "Error fetching profile for did:plc:6eiuolj7lsyvpcgvclawk3ts: 401 Client Error: Unauthorized for url: https://bsky.social/xrpc/app.bsky.actor.getProfile?actor=did%3Aplc%3A6eiuolj7lsyvpcgvclawk3ts\n",
      "Error fetching profile for did:plc:5urg2lmzqcll25o6eyowqfyy: 401 Client Error: Unauthorized for url: https://bsky.social/xrpc/app.bsky.actor.getProfile?actor=did%3Aplc%3A5urg2lmzqcll25o6eyowqfyy\n",
      "Error fetching profile for did:plc:vw2akmvcq4qvxizmccqyul3t: 401 Client Error: Unauthorized for url: https://bsky.social/xrpc/app.bsky.actor.getProfile?actor=did%3Aplc%3Avw2akmvcq4qvxizmccqyul3t\n",
      "Error fetching profile for did:plc:jkrmkm7d6dx5calcc66lhcor: 401 Client Error: Unauthorized for url: https://bsky.social/xrpc/app.bsky.actor.getProfile?actor=did%3Aplc%3Ajkrmkm7d6dx5calcc66lhcor\n"
     ]
    }
   ],
   "source": [
    "## used code and notes from previous class on sept 29 for help in this section.\n",
    "\n",
    "#sept 29th code below for help.\n",
    "### Get author profiles for these dids\n",
    "#all_profiles = []\n",
    "#for d in unique_dids:\n",
    " #   params = []\n",
    " #   params.append((\"actor\", d))\n",
    "  #  r = requests.get(f\"{BASE_URL}/app.bsky.actor.getProfile\", params=params, timeout = 30)\n",
    "  #  data = r.json()\n",
    "   # print(js.dumps(data, indent = 2))\n",
    "\n",
    "    # append this profile to our list all_profiles\n",
    "   # all_profiles.append({\n",
    "    #    \"did\": data.get(\"did\"), \n",
    "#        \"handle\": data.get(\"handle\"), \n",
    "    #    \"displayName\" : data.get(\"displayName\"),\n",
    "     #   \"folllowersCount\": data.get(\"followersCount\"),\n",
    "     #   \"followsCount\": data.get(\"followsCount\"),\n",
    "     #   \"postCount\": data.get(\"postCount\"),\n",
    "  #  })\n",
    "\n",
    "all_profiles_df = pd.DataFrame(all_profiles)\n",
    "all_profiles_df.head(5)\n",
    "\n",
    "\n",
    "all_profiles = []\n",
    "\n",
    "for d in unique_dids:\n",
    "    try:\n",
    "        params = {\"actor\": d}\n",
    "        r = requests.get(f\"{BASE_URL}/app.bsky.actor.getProfile\", params=params, timeout=30)\n",
    "        r.raise_for_status()\n",
    "        data = r.json()\n",
    "\n",
    "        # append this profile to our list all_profiles\n",
    "        all_profiles.append({\n",
    "            \"did\": data.get(\"did\"),\n",
    "            \"handle\": data.get(\"handle\"),\n",
    "            \"displayName\": data.get(\"displayName\"),\n",
    "            \"followersCount\": data.get(\"followersCount\"), \n",
    "            \"followsCount\": data.get(\"followsCount\"),\n",
    "            \"postsCount\": data.get(\"postsCount\"),\n",
    "        })\n",
    "\n",
    "    # I used Chat GPT for this part below, as when I did not have this section I was getting an error saying it \"expected an exception\"\n",
    "    # it says without this line of code there would be an error and it would stop running when it got to the first profile with an issue\n",
    "    except Exception as e:\n",
    "        print(f\"Error fetching profile for {d}: {e}\")\n",
    "\n",
    "# Convert to DataFrame\n",
    "all_profiles_df = pd.DataFrame(all_profiles)\n",
    "\n",
    "# this section of code results in all errors?????"
   ]
  },
  {
   "cell_type": "markdown",
   "id": "6ac25187-06cd-4ee0-ab34-7cf6ab82fa74",
   "metadata": {},
   "source": [
    "e.g. app.bsky.feed.searchPosts Flatten key fields from Bluesky PostView objects."
   ]
  },
  {
   "cell_type": "markdown",
   "id": "26af962b-c898-441a-a8cd-51465dd5b700",
   "metadata": {},
   "source": [
    "### Data Collection (Endpoint 2):"
   ]
  },
  {
   "cell_type": "markdown",
   "id": "f73441d6-8e08-4316-91e5-89081b53e761",
   "metadata": {},
   "source": [
    "I believe this was done in the above section??? "
   ]
  },
  {
   "cell_type": "markdown",
   "id": "59ac5842-4439-4190-a724-88e7aac131a5",
   "metadata": {},
   "source": [
    "## Section 4 — Build DataFrames"
   ]
  },
  {
   "cell_type": "code",
   "execution_count": 94,
   "id": "25c38cd1-ee0d-4825-b5bd-fdf5682bf407",
   "metadata": {},
   "outputs": [
    {
     "ename": "TypeError",
     "evalue": "Can only merge Series or DataFrame objects, a <class 'list'> was passed",
     "output_type": "error",
     "traceback": [
      "\u001b[31m---------------------------------------------------------------------------\u001b[39m",
      "\u001b[31mTypeError\u001b[39m                                 Traceback (most recent call last)",
      "\u001b[36mCell\u001b[39m\u001b[36m \u001b[39m\u001b[32mIn[94]\u001b[39m\u001b[32m, line 6\u001b[39m\n\u001b[32m      1\u001b[39m \u001b[38;5;66;03m# used ## Merge posts and profile dataframes from septmber 29th for this code\u001b[39;00m\n\u001b[32m      2\u001b[39m \n\u001b[32m      3\u001b[39m \u001b[38;5;66;03m## I cannot get this section to run and I am unsure what I am missing, I attempted to have ChatGPT check this by plugging in my \u001b[39;00m\n\u001b[32m      4\u001b[39m \u001b[38;5;66;03m# code from september 22 and septmber 29th class and explain the steps so I could change them and apply them for this scenario\u001b[39;00m\n\u001b[32m      5\u001b[39m \u001b[38;5;66;03m# but I was not able to get this code section to run at all. I also plugged in the error message and it was not much help. \u001b[39;00m\n\u001b[32m----> \u001b[39m\u001b[32m6\u001b[39m enriched_posts_df = posts_df.merge(\n\u001b[32m      7\u001b[39m     all_profiles,\n\u001b[32m      8\u001b[39m     left_on=\u001b[33m\"\u001b[39m\u001b[33mauthor_did\u001b[39m\u001b[33m\"\u001b[39m,\n\u001b[32m      9\u001b[39m     right_on=\u001b[33m\"\u001b[39m\u001b[33mdid\u001b[39m\u001b[33m\"\u001b[39m,\n\u001b[32m     10\u001b[39m )\n\u001b[32m     12\u001b[39m final_df.head(\u001b[32m10\u001b[39m)\n",
      "\u001b[36mFile \u001b[39m\u001b[32m/opt/anaconda3/envs/data-fa25/lib/python3.12/site-packages/pandas/core/frame.py:10839\u001b[39m, in \u001b[36mDataFrame.merge\u001b[39m\u001b[34m(self, right, how, on, left_on, right_on, left_index, right_index, sort, suffixes, copy, indicator, validate)\u001b[39m\n\u001b[32m  10820\u001b[39m \u001b[38;5;129m@Substitution\u001b[39m(\u001b[33m\"\u001b[39m\u001b[33m\"\u001b[39m)\n\u001b[32m  10821\u001b[39m \u001b[38;5;129m@Appender\u001b[39m(_merge_doc, indents=\u001b[32m2\u001b[39m)\n\u001b[32m  10822\u001b[39m \u001b[38;5;28;01mdef\u001b[39;00m\u001b[38;5;250m \u001b[39m\u001b[34mmerge\u001b[39m(\n\u001b[32m   (...)\u001b[39m\u001b[32m  10835\u001b[39m     validate: MergeValidate | \u001b[38;5;28;01mNone\u001b[39;00m = \u001b[38;5;28;01mNone\u001b[39;00m,\n\u001b[32m  10836\u001b[39m ) -> DataFrame:\n\u001b[32m  10837\u001b[39m     \u001b[38;5;28;01mfrom\u001b[39;00m\u001b[38;5;250m \u001b[39m\u001b[34;01mpandas\u001b[39;00m\u001b[34;01m.\u001b[39;00m\u001b[34;01mcore\u001b[39;00m\u001b[34;01m.\u001b[39;00m\u001b[34;01mreshape\u001b[39;00m\u001b[34;01m.\u001b[39;00m\u001b[34;01mmerge\u001b[39;00m\u001b[38;5;250m \u001b[39m\u001b[38;5;28;01mimport\u001b[39;00m merge\n\u001b[32m> \u001b[39m\u001b[32m10839\u001b[39m     \u001b[38;5;28;01mreturn\u001b[39;00m merge(\n\u001b[32m  10840\u001b[39m         \u001b[38;5;28mself\u001b[39m,\n\u001b[32m  10841\u001b[39m         right,\n\u001b[32m  10842\u001b[39m         how=how,\n\u001b[32m  10843\u001b[39m         on=on,\n\u001b[32m  10844\u001b[39m         left_on=left_on,\n\u001b[32m  10845\u001b[39m         right_on=right_on,\n\u001b[32m  10846\u001b[39m         left_index=left_index,\n\u001b[32m  10847\u001b[39m         right_index=right_index,\n\u001b[32m  10848\u001b[39m         sort=sort,\n\u001b[32m  10849\u001b[39m         suffixes=suffixes,\n\u001b[32m  10850\u001b[39m         copy=copy,\n\u001b[32m  10851\u001b[39m         indicator=indicator,\n\u001b[32m  10852\u001b[39m         validate=validate,\n\u001b[32m  10853\u001b[39m     )\n",
      "\u001b[36mFile \u001b[39m\u001b[32m/opt/anaconda3/envs/data-fa25/lib/python3.12/site-packages/pandas/core/reshape/merge.py:153\u001b[39m, in \u001b[36mmerge\u001b[39m\u001b[34m(left, right, how, on, left_on, right_on, left_index, right_index, sort, suffixes, copy, indicator, validate)\u001b[39m\n\u001b[32m    135\u001b[39m \u001b[38;5;129m@Substitution\u001b[39m(\u001b[33m\"\u001b[39m\u001b[38;5;130;01m\\n\u001b[39;00m\u001b[33mleft : DataFrame or named Series\u001b[39m\u001b[33m\"\u001b[39m)\n\u001b[32m    136\u001b[39m \u001b[38;5;129m@Appender\u001b[39m(_merge_doc, indents=\u001b[32m0\u001b[39m)\n\u001b[32m    137\u001b[39m \u001b[38;5;28;01mdef\u001b[39;00m\u001b[38;5;250m \u001b[39m\u001b[34mmerge\u001b[39m(\n\u001b[32m   (...)\u001b[39m\u001b[32m    150\u001b[39m     validate: \u001b[38;5;28mstr\u001b[39m | \u001b[38;5;28;01mNone\u001b[39;00m = \u001b[38;5;28;01mNone\u001b[39;00m,\n\u001b[32m    151\u001b[39m ) -> DataFrame:\n\u001b[32m    152\u001b[39m     left_df = _validate_operand(left)\n\u001b[32m--> \u001b[39m\u001b[32m153\u001b[39m     right_df = _validate_operand(right)\n\u001b[32m    154\u001b[39m     \u001b[38;5;28;01mif\u001b[39;00m how == \u001b[33m\"\u001b[39m\u001b[33mcross\u001b[39m\u001b[33m\"\u001b[39m:\n\u001b[32m    155\u001b[39m         \u001b[38;5;28;01mreturn\u001b[39;00m _cross_merge(\n\u001b[32m    156\u001b[39m             left_df,\n\u001b[32m    157\u001b[39m             right_df,\n\u001b[32m   (...)\u001b[39m\u001b[32m    167\u001b[39m             copy=copy,\n\u001b[32m    168\u001b[39m         )\n",
      "\u001b[36mFile \u001b[39m\u001b[32m/opt/anaconda3/envs/data-fa25/lib/python3.12/site-packages/pandas/core/reshape/merge.py:2692\u001b[39m, in \u001b[36m_validate_operand\u001b[39m\u001b[34m(obj)\u001b[39m\n\u001b[32m   2690\u001b[39m     \u001b[38;5;28;01mreturn\u001b[39;00m obj.to_frame()\n\u001b[32m   2691\u001b[39m \u001b[38;5;28;01melse\u001b[39;00m:\n\u001b[32m-> \u001b[39m\u001b[32m2692\u001b[39m     \u001b[38;5;28;01mraise\u001b[39;00m \u001b[38;5;167;01mTypeError\u001b[39;00m(\n\u001b[32m   2693\u001b[39m         \u001b[33mf\u001b[39m\u001b[33m\"\u001b[39m\u001b[33mCan only merge Series or DataFrame objects, a \u001b[39m\u001b[38;5;132;01m{\u001b[39;00m\u001b[38;5;28mtype\u001b[39m(obj)\u001b[38;5;132;01m}\u001b[39;00m\u001b[33m was passed\u001b[39m\u001b[33m\"\u001b[39m\n\u001b[32m   2694\u001b[39m     )\n",
      "\u001b[31mTypeError\u001b[39m: Can only merge Series or DataFrame objects, a <class 'list'> was passed"
     ]
    }
   ],
   "source": [
    "# used ## Merge posts and profile dataframes from septmber 29th for this code\n",
    "\n",
    "## I cannot get this section to run and I am unsure what I am missing, I attempted to have ChatGPT check this by plugging in my \n",
    "# code from september 22 and septmber 29th class and explain the steps so I could change them and apply them for this scenario\n",
    "# but I was not able to get this code section to run at all. I also plugged in the error message and it was not much help. \n",
    "enriched_posts_df = posts_df.merge(\n",
    "    all_profiles,\n",
    "    left_on=\"author_did\",\n",
    "    right_on=\"did\",\n",
    ")\n",
    "\n",
    "final_df.head(10)"
   ]
  },
  {
   "cell_type": "markdown",
   "id": "f54aa48b-7fc9-4de7-80f7-7544adc02dbb",
   "metadata": {},
   "source": [
    "## Section 5 — Conclusion"
   ]
  },
  {
   "cell_type": "markdown",
   "id": "e9e9364d-69bf-48cf-99ef-919a717aa384",
   "metadata": {},
   "source": [
    "Describe any patterns you observe in the collected data and how they relate to your hypothesis.\n",
    "Describe challenges you faced."
   ]
  },
  {
   "cell_type": "markdown",
   "id": "c61023d4-b4bb-4ca8-9dc8-5103f137f875",
   "metadata": {},
   "source": [
    "Unfortunately, I ran into a lot of errors in this assignment. This was very challenging for me, and I feel like I end up understanding what we do in class, and then when I need to do it on my own I am able to get somewhere using the old codes I have from class, but then when I get an error I do not know howto resolve it. Steps one and two went fine for me , and I felt confident, and then step three was going okay until my last big section of code only came back with errors. This is where I started getting confused and I feel as though neither my notes or old jupyter notebooks or AI was able to help me clarify this. It could be because I spent a few hours trying to change and fix it so much that I almost got confused with what my original code even was, but this is where this assignment started to go bad for me. Section four I was not really able to complete due to the error messages I was recieving, and I was also not able to do a scatter plot even though I was planning to try one in order to help me visualize the data and see a pattern between my two endpoints and test my hypothesis. Unfortunately I was not able to get the visualizations I wanted for this assignment and get past the \"Error fetching profile for did:plc:rjscsr7qexxigyhnjctym4bk: 401 Client Error: Unauthorized for url: https://bsky.social/xrpc/app.bsky.actor.getProfile?actor=did%3Aplc%3Arjscsr7qexxigyhnjctym4bk\" error, which led me to not be able to run my code and also not be able to let me get the data points needed. I was also confused since when I was running my code earlier last week in class I was getting some results back with the post count saying none, so I am curious if that was something I would have run into here. I believe that my hypothesis would still be true that the more followers someone has they also have more posts, but unfortunately I do not have a way to prove this. "
   ]
  },
  {
   "cell_type": "code",
   "execution_count": 95,
   "id": "b3d6fa37-0331-4faa-b923-74f52179bd45",
   "metadata": {},
   "outputs": [
    {
     "ename": "NameError",
     "evalue": "name 'enriched_posts_df' is not defined",
     "output_type": "error",
     "traceback": [
      "\u001b[31m---------------------------------------------------------------------------\u001b[39m",
      "\u001b[31mNameError\u001b[39m                                 Traceback (most recent call last)",
      "\u001b[36mCell\u001b[39m\u001b[36m \u001b[39m\u001b[32mIn[95]\u001b[39m\u001b[32m, line 13\u001b[39m\n\u001b[32m      9\u001b[39m \u001b[38;5;28;01mimport\u001b[39;00m\u001b[38;5;250m \u001b[39m\u001b[34;01mmatplotlib\u001b[39;00m\u001b[34;01m.\u001b[39;00m\u001b[34;01mpyplot\u001b[39;00m\u001b[38;5;250m \u001b[39m\u001b[38;5;28;01mas\u001b[39;00m\u001b[38;5;250m \u001b[39m\u001b[34;01mplt\u001b[39;00m\n\u001b[32m     11\u001b[39m \u001b[38;5;66;03m# Base scatterplot template\u001b[39;00m\n\u001b[32m     12\u001b[39m plt.scatter(\n\u001b[32m---> \u001b[39m\u001b[32m13\u001b[39m     enriched_posts_df[\u001b[33m'\u001b[39m\u001b[33mpostsCount\u001b[39m\u001b[33m'\u001b[39m], \n\u001b[32m     14\u001b[39m     enriched_posts_df[\u001b[33m'\u001b[39m\u001b[33mfollowersCount\u001b[39m\u001b[33m'\u001b[39m]  \n\u001b[32m     15\u001b[39m )\n\u001b[32m     17\u001b[39m plt.xlabel(\u001b[33m\"\u001b[39m\u001b[33mNumber of Posts\u001b[39m\u001b[33m\"\u001b[39m)      \n\u001b[32m     18\u001b[39m plt.ylabel(\u001b[33m\"\u001b[39m\u001b[33mNumber of Followers\u001b[39m\u001b[33m\"\u001b[39m)      \n",
      "\u001b[31mNameError\u001b[39m: name 'enriched_posts_df' is not defined"
     ]
    }
   ],
   "source": [
    "#  code from sept 15th for reference (\n",
    "   # tips['day']\n",
    "  #  .value_counts()\n",
    "   # .reset_index(name='count')\n",
    "   # .rename(columns={'index':'day'})\n",
    "   # .plot(kind='bar',x='day',y='count', title='Rows per day')\n",
    "#); plt.show\n",
    "\n",
    "import matplotlib.pyplot as plt\n",
    "\n",
    "# Base scatterplot template\n",
    "plt.scatter(\n",
    "    enriched_posts_df['postsCount'], \n",
    "    enriched_posts_df['followersCount']  \n",
    ")\n",
    "\n",
    "plt.xlabel(\"Number of Posts\")      \n",
    "plt.ylabel(\"Number of Followers\")      \n",
    "plt.title(\"Followers vs Likes\")  \n",
    "\n",
    "plt.show()\n",
    "\n",
    "# this is not running due to the error I got in the above section of code :( . "
   ]
  }
 ],
 "metadata": {
  "kernelspec": {
   "display_name": "Python [conda env:base] *",
   "language": "python",
   "name": "conda-base-py"
  },
  "language_info": {
   "codemirror_mode": {
    "name": "ipython",
    "version": 3
   },
   "file_extension": ".py",
   "mimetype": "text/x-python",
   "name": "python",
   "nbconvert_exporter": "python",
   "pygments_lexer": "ipython3",
   "version": "3.13.5"
  }
 },
 "nbformat": 4,
 "nbformat_minor": 5
}
