{
 "cells": [
  {
   "cell_type": "markdown",
   "id": "3114b8e9-7bf3-4d0b-8e34-0375acd450b4",
   "metadata": {},
   "source": [
    "## Likes Report Assignment \n",
    "### Alaina Norris\n",
    "### 09/10/2025\n",
    "\n",
    "The source of my personal instagram data was the data I downloaded directly from my account. I did not do anything special for this data. The data I downloaded was the data I had for the last year on instagram , from August 2024 until August 2025. This data was created in order to track how I interact with the app, and what features are used. It is also helpful to track the posts I like and view in order to give a more personalized experience in my instagram reels, and also for targeted advertisments. This data served the purpose of a more personal and targeted experience on the app, which keeps the user engaged and ensures that they enjoy the app. If someone gets completely random and not relatable feed, then they made be more inclined to not use the app or switch to other apps - such as facebook or tiktok. The data can also be used for personal use if you were interested to see the things you have done in the last year on the app. This data is reliable because of Instagrams use of analytical tools and third party tools (with the user permission). The data can track exactly what happened and when it happened, such as giving you a direct date and time of when you liked someones post or clicked on an ad. This data could potentially be unreliable depending on some data limitations or if there is any incomplete data that instagram did not collect. There also may be some issues if the user does not use the app consistenly and has missed many updates. "
   ]
  },
  {
   "cell_type": "markdown",
   "id": "8774025e-ae62-45d1-bc9e-93cbd2f12a4d",
   "metadata": {},
   "source": [
    "## Section 2\n",
    "Open and load the json file "
   ]
  },
  {
   "cell_type": "code",
   "execution_count": 125,
   "id": "cda48c04-ec77-4803-8ca4-8b6f6e0e8208",
   "metadata": {},
   "outputs": [],
   "source": [
    "### these are the imports we need\n",
    "import json\n",
    "import pandas as pd \n",
    "import matplotlib as plt"
   ]
  },
  {
   "cell_type": "code",
   "execution_count": 126,
   "id": "754280b6-b5db-4b7a-b531-ca3f933e760f",
   "metadata": {},
   "outputs": [],
   "source": [
    "path = r\"/Users/alainanorris/Downloads/instagram-_alainanorris_-2025-08-25-DX2wxAXH 4/your_instagram_activity/likes/liked_posts.json\"\n",
    "with open(path) as l:\n",
    "    dict = json.load(l)"
   ]
  },
  {
   "cell_type": "markdown",
   "id": "9d155919-2607-4d38-a5bb-65c6ec759ea8",
   "metadata": {},
   "source": [
    "## Section 3\n",
    "Convert the data into DataFrame object and assign it to a new variable using pandas DataFrame function."
   ]
  },
  {
   "cell_type": "code",
   "execution_count": 127,
   "id": "a79f895c-ee63-4fba-9b1d-49edd5cbbf6b",
   "metadata": {},
   "outputs": [
    {
     "data": {
      "text/html": [
       "<div>\n",
       "<style scoped>\n",
       "    .dataframe tbody tr th:only-of-type {\n",
       "        vertical-align: middle;\n",
       "    }\n",
       "\n",
       "    .dataframe tbody tr th {\n",
       "        vertical-align: top;\n",
       "    }\n",
       "\n",
       "    .dataframe thead th {\n",
       "        text-align: right;\n",
       "    }\n",
       "</style>\n",
       "<table border=\"1\" class=\"dataframe\">\n",
       "  <thead>\n",
       "    <tr style=\"text-align: right;\">\n",
       "      <th></th>\n",
       "      <th>likes_media_likes</th>\n",
       "    </tr>\n",
       "  </thead>\n",
       "  <tbody>\n",
       "    <tr>\n",
       "      <th>0</th>\n",
       "      <td>{'title': 'conangray', 'string_list_data': [{'...</td>\n",
       "    </tr>\n",
       "    <tr>\n",
       "      <th>1</th>\n",
       "      <td>{'title': 'caucasianmemer', 'string_list_data'...</td>\n",
       "    </tr>\n",
       "    <tr>\n",
       "      <th>2</th>\n",
       "      <td>{'title': 'spookyhoagie', 'string_list_data': ...</td>\n",
       "    </tr>\n",
       "    <tr>\n",
       "      <th>3</th>\n",
       "      <td>{'title': 'gothictodie', 'string_list_data': [...</td>\n",
       "    </tr>\n",
       "    <tr>\n",
       "      <th>4</th>\n",
       "      <td>{'title': 'ceterralynn', 'string_list_data': [...</td>\n",
       "    </tr>\n",
       "  </tbody>\n",
       "</table>\n",
       "</div>"
      ],
      "text/plain": [
       "                                   likes_media_likes\n",
       "0  {'title': 'conangray', 'string_list_data': [{'...\n",
       "1  {'title': 'caucasianmemer', 'string_list_data'...\n",
       "2  {'title': 'spookyhoagie', 'string_list_data': ...\n",
       "3  {'title': 'gothictodie', 'string_list_data': [...\n",
       "4  {'title': 'ceterralynn', 'string_list_data': [..."
      ]
     },
     "execution_count": 127,
     "metadata": {},
     "output_type": "execute_result"
    }
   ],
   "source": [
    "df = pd.DataFrame(dict)\n",
    "df.head()"
   ]
  },
  {
   "cell_type": "code",
   "execution_count": 128,
   "id": "e68a92a5-8255-482b-a258-9e6578778a02",
   "metadata": {},
   "outputs": [
    {
     "data": {
      "text/plain": [
       "dict_keys(['likes_media_likes'])"
      ]
     },
     "execution_count": 128,
     "metadata": {},
     "output_type": "execute_result"
    }
   ],
   "source": [
    "dict.keys()"
   ]
  },
  {
   "cell_type": "code",
   "execution_count": 129,
   "id": "18cd43b5-466a-44c1-b438-6919dd02a540",
   "metadata": {},
   "outputs": [
    {
     "data": {
      "text/html": [
       "<div>\n",
       "<style scoped>\n",
       "    .dataframe tbody tr th:only-of-type {\n",
       "        vertical-align: middle;\n",
       "    }\n",
       "\n",
       "    .dataframe tbody tr th {\n",
       "        vertical-align: top;\n",
       "    }\n",
       "\n",
       "    .dataframe thead th {\n",
       "        text-align: right;\n",
       "    }\n",
       "</style>\n",
       "<table border=\"1\" class=\"dataframe\">\n",
       "  <thead>\n",
       "    <tr style=\"text-align: right;\">\n",
       "      <th></th>\n",
       "      <th>title</th>\n",
       "      <th>string_list_data</th>\n",
       "    </tr>\n",
       "  </thead>\n",
       "  <tbody>\n",
       "    <tr>\n",
       "      <th>0</th>\n",
       "      <td>conangray</td>\n",
       "      <td>[{'href': 'https://www.instagram.com/p/DNyOvH8...</td>\n",
       "    </tr>\n",
       "    <tr>\n",
       "      <th>1</th>\n",
       "      <td>caucasianmemer</td>\n",
       "      <td>[{'href': 'https://www.instagram.com/p/DNisltN...</td>\n",
       "    </tr>\n",
       "    <tr>\n",
       "      <th>2</th>\n",
       "      <td>spookyhoagie</td>\n",
       "      <td>[{'href': 'https://www.instagram.com/p/DNR1RZY...</td>\n",
       "    </tr>\n",
       "    <tr>\n",
       "      <th>3</th>\n",
       "      <td>gothictodie</td>\n",
       "      <td>[{'href': 'https://www.instagram.com/p/DNbINZR...</td>\n",
       "    </tr>\n",
       "    <tr>\n",
       "      <th>4</th>\n",
       "      <td>ceterralynn</td>\n",
       "      <td>[{'href': 'https://www.instagram.com/p/DNwov3D...</td>\n",
       "    </tr>\n",
       "  </tbody>\n",
       "</table>\n",
       "</div>"
      ],
      "text/plain": [
       "            title                                   string_list_data\n",
       "0       conangray  [{'href': 'https://www.instagram.com/p/DNyOvH8...\n",
       "1  caucasianmemer  [{'href': 'https://www.instagram.com/p/DNisltN...\n",
       "2    spookyhoagie  [{'href': 'https://www.instagram.com/p/DNR1RZY...\n",
       "3     gothictodie  [{'href': 'https://www.instagram.com/p/DNbINZR...\n",
       "4     ceterralynn  [{'href': 'https://www.instagram.com/p/DNwov3D..."
      ]
     },
     "execution_count": 129,
     "metadata": {},
     "output_type": "execute_result"
    }
   ],
   "source": [
    "df_tidy = pd.DataFrame(dict['likes_media_likes'])\n",
    "df_tidy.head()"
   ]
  },
  {
   "cell_type": "markdown",
   "id": "23f4b634-0268-4605-affa-1083fa290686",
   "metadata": {},
   "source": [
    "## Section 4"
   ]
  },
  {
   "cell_type": "code",
   "execution_count": 130,
   "id": "dae2c625-5874-41fd-9123-dbfaaf065aad",
   "metadata": {},
   "outputs": [
    {
     "data": {
      "text/plain": [
       "[{'href': 'https://www.instagram.com/p/DNyOvH8XLQs/',\n",
       "  'value': 'ð\\x9f\\x91\\x8d',\n",
       "  'timestamp': 1756143885}]"
      ]
     },
     "execution_count": 130,
     "metadata": {},
     "output_type": "execute_result"
    }
   ],
   "source": [
    "df_tidy['string_list_data'].iloc[0]"
   ]
  },
  {
   "cell_type": "code",
   "execution_count": 131,
   "id": "34ddf7f9-1864-4eb7-bb02-fa5597a0b047",
   "metadata": {},
   "outputs": [
    {
     "data": {
      "text/plain": [
       "list"
      ]
     },
     "execution_count": 131,
     "metadata": {},
     "output_type": "execute_result"
    }
   ],
   "source": [
    "type(df_tidy['string_list_data'].iloc[0])"
   ]
  },
  {
   "cell_type": "code",
   "execution_count": 132,
   "id": "50c088da-f04f-4225-9192-44c7eb6b4590",
   "metadata": {},
   "outputs": [
    {
     "data": {
      "text/plain": [
       "1"
      ]
     },
     "execution_count": 132,
     "metadata": {},
     "output_type": "execute_result"
    }
   ],
   "source": [
    "len(df_tidy['string_list_data'].iloc[0])"
   ]
  },
  {
   "cell_type": "code",
   "execution_count": 133,
   "id": "4cea9fcc-68bc-4fa6-a2fc-476e05c208d8",
   "metadata": {},
   "outputs": [
    {
     "data": {
      "text/plain": [
       "{'href': 'https://www.instagram.com/p/DNyOvH8XLQs/',\n",
       " 'value': 'ð\\x9f\\x91\\x8d',\n",
       " 'timestamp': 1756143885}"
      ]
     },
     "execution_count": 133,
     "metadata": {},
     "output_type": "execute_result"
    }
   ],
   "source": [
    "df_tidy['string_list_data'].iloc[0][0]"
   ]
  },
  {
   "cell_type": "code",
   "execution_count": 134,
   "id": "6bc215dc-8b2d-4324-b5d1-9a8a3807478a",
   "metadata": {},
   "outputs": [
    {
     "data": {
      "text/plain": [
       "1756143885"
      ]
     },
     "execution_count": 134,
     "metadata": {},
     "output_type": "execute_result"
    }
   ],
   "source": [
    "df_tidy['string_list_data'].iloc[0][0]['timestamp']"
   ]
  },
  {
   "cell_type": "code",
   "execution_count": 135,
   "id": "660c1396-620d-458e-be25-d947ac5d815b",
   "metadata": {},
   "outputs": [
    {
     "data": {
      "text/html": [
       "<div>\n",
       "<style scoped>\n",
       "    .dataframe tbody tr th:only-of-type {\n",
       "        vertical-align: middle;\n",
       "    }\n",
       "\n",
       "    .dataframe tbody tr th {\n",
       "        vertical-align: top;\n",
       "    }\n",
       "\n",
       "    .dataframe thead th {\n",
       "        text-align: right;\n",
       "    }\n",
       "</style>\n",
       "<table border=\"1\" class=\"dataframe\">\n",
       "  <thead>\n",
       "    <tr style=\"text-align: right;\">\n",
       "      <th></th>\n",
       "      <th>title</th>\n",
       "      <th>string_list_data</th>\n",
       "      <th>Time of Like</th>\n",
       "    </tr>\n",
       "  </thead>\n",
       "  <tbody>\n",
       "    <tr>\n",
       "      <th>0</th>\n",
       "      <td>conangray</td>\n",
       "      <td>[{'href': 'https://www.instagram.com/p/DNyOvH8...</td>\n",
       "      <td>1756143885</td>\n",
       "    </tr>\n",
       "    <tr>\n",
       "      <th>1</th>\n",
       "      <td>caucasianmemer</td>\n",
       "      <td>[{'href': 'https://www.instagram.com/p/DNisltN...</td>\n",
       "      <td>1756132206</td>\n",
       "    </tr>\n",
       "    <tr>\n",
       "      <th>2</th>\n",
       "      <td>spookyhoagie</td>\n",
       "      <td>[{'href': 'https://www.instagram.com/p/DNR1RZY...</td>\n",
       "      <td>1756090081</td>\n",
       "    </tr>\n",
       "    <tr>\n",
       "      <th>3</th>\n",
       "      <td>gothictodie</td>\n",
       "      <td>[{'href': 'https://www.instagram.com/p/DNbINZR...</td>\n",
       "      <td>1756090013</td>\n",
       "    </tr>\n",
       "    <tr>\n",
       "      <th>4</th>\n",
       "      <td>ceterralynn</td>\n",
       "      <td>[{'href': 'https://www.instagram.com/p/DNwov3D...</td>\n",
       "      <td>1756089975</td>\n",
       "    </tr>\n",
       "  </tbody>\n",
       "</table>\n",
       "</div>"
      ],
      "text/plain": [
       "            title                                   string_list_data  \\\n",
       "0       conangray  [{'href': 'https://www.instagram.com/p/DNyOvH8...   \n",
       "1  caucasianmemer  [{'href': 'https://www.instagram.com/p/DNisltN...   \n",
       "2    spookyhoagie  [{'href': 'https://www.instagram.com/p/DNR1RZY...   \n",
       "3     gothictodie  [{'href': 'https://www.instagram.com/p/DNbINZR...   \n",
       "4     ceterralynn  [{'href': 'https://www.instagram.com/p/DNwov3D...   \n",
       "\n",
       "   Time of Like  \n",
       "0    1756143885  \n",
       "1    1756132206  \n",
       "2    1756090081  \n",
       "3    1756090013  \n",
       "4    1756089975  "
      ]
     },
     "execution_count": 135,
     "metadata": {},
     "output_type": "execute_result"
    }
   ],
   "source": [
    "df_tidy['Time of Like'] = [ i[0]['timestamp'] for i in df_tidy['string_list_data']]\n",
    "\n",
    "df_tidy.head()"
   ]
  },
  {
   "cell_type": "code",
   "execution_count": 136,
   "id": "3a1958ac-c57b-4fcd-9300-4cb429aea4d0",
   "metadata": {},
   "outputs": [],
   "source": [
    "# good to have\n",
    "from datetime import datetime\n",
    "df_tidy['Date of Like'] = [datetime.fromtimestamp(i[0]['timestamp']) for i in df_tidy['string_list_data']]"
   ]
  },
  {
   "cell_type": "code",
   "execution_count": 137,
   "id": "52e943a5-e16f-4d42-b8df-e73c45888e21",
   "metadata": {},
   "outputs": [
    {
     "data": {
      "text/html": [
       "<div>\n",
       "<style scoped>\n",
       "    .dataframe tbody tr th:only-of-type {\n",
       "        vertical-align: middle;\n",
       "    }\n",
       "\n",
       "    .dataframe tbody tr th {\n",
       "        vertical-align: top;\n",
       "    }\n",
       "\n",
       "    .dataframe thead th {\n",
       "        text-align: right;\n",
       "    }\n",
       "</style>\n",
       "<table border=\"1\" class=\"dataframe\">\n",
       "  <thead>\n",
       "    <tr style=\"text-align: right;\">\n",
       "      <th></th>\n",
       "      <th>title</th>\n",
       "      <th>string_list_data</th>\n",
       "      <th>Time of Like</th>\n",
       "      <th>Date of Like</th>\n",
       "    </tr>\n",
       "  </thead>\n",
       "  <tbody>\n",
       "    <tr>\n",
       "      <th>0</th>\n",
       "      <td>conangray</td>\n",
       "      <td>[{'href': 'https://www.instagram.com/p/DNyOvH8...</td>\n",
       "      <td>1756143885</td>\n",
       "      <td>2025-08-25 13:44:45</td>\n",
       "    </tr>\n",
       "    <tr>\n",
       "      <th>1</th>\n",
       "      <td>caucasianmemer</td>\n",
       "      <td>[{'href': 'https://www.instagram.com/p/DNisltN...</td>\n",
       "      <td>1756132206</td>\n",
       "      <td>2025-08-25 10:30:06</td>\n",
       "    </tr>\n",
       "    <tr>\n",
       "      <th>2</th>\n",
       "      <td>spookyhoagie</td>\n",
       "      <td>[{'href': 'https://www.instagram.com/p/DNR1RZY...</td>\n",
       "      <td>1756090081</td>\n",
       "      <td>2025-08-24 22:48:01</td>\n",
       "    </tr>\n",
       "    <tr>\n",
       "      <th>3</th>\n",
       "      <td>gothictodie</td>\n",
       "      <td>[{'href': 'https://www.instagram.com/p/DNbINZR...</td>\n",
       "      <td>1756090013</td>\n",
       "      <td>2025-08-24 22:46:53</td>\n",
       "    </tr>\n",
       "    <tr>\n",
       "      <th>4</th>\n",
       "      <td>ceterralynn</td>\n",
       "      <td>[{'href': 'https://www.instagram.com/p/DNwov3D...</td>\n",
       "      <td>1756089975</td>\n",
       "      <td>2025-08-24 22:46:15</td>\n",
       "    </tr>\n",
       "  </tbody>\n",
       "</table>\n",
       "</div>"
      ],
      "text/plain": [
       "            title                                   string_list_data  \\\n",
       "0       conangray  [{'href': 'https://www.instagram.com/p/DNyOvH8...   \n",
       "1  caucasianmemer  [{'href': 'https://www.instagram.com/p/DNisltN...   \n",
       "2    spookyhoagie  [{'href': 'https://www.instagram.com/p/DNR1RZY...   \n",
       "3     gothictodie  [{'href': 'https://www.instagram.com/p/DNbINZR...   \n",
       "4     ceterralynn  [{'href': 'https://www.instagram.com/p/DNwov3D...   \n",
       "\n",
       "   Time of Like        Date of Like  \n",
       "0    1756143885 2025-08-25 13:44:45  \n",
       "1    1756132206 2025-08-25 10:30:06  \n",
       "2    1756090081 2025-08-24 22:48:01  \n",
       "3    1756090013 2025-08-24 22:46:53  \n",
       "4    1756089975 2025-08-24 22:46:15  "
      ]
     },
     "execution_count": 137,
     "metadata": {},
     "output_type": "execute_result"
    }
   ],
   "source": [
    "df_tidy.head()"
   ]
  },
  {
   "cell_type": "code",
   "execution_count": 138,
   "id": "5af3f880-ce83-4f51-b476-f3f826631460",
   "metadata": {},
   "outputs": [
    {
     "data": {
      "text/html": [
       "<div>\n",
       "<style scoped>\n",
       "    .dataframe tbody tr th:only-of-type {\n",
       "        vertical-align: middle;\n",
       "    }\n",
       "\n",
       "    .dataframe tbody tr th {\n",
       "        vertical-align: top;\n",
       "    }\n",
       "\n",
       "    .dataframe thead th {\n",
       "        text-align: right;\n",
       "    }\n",
       "</style>\n",
       "<table border=\"1\" class=\"dataframe\">\n",
       "  <thead>\n",
       "    <tr style=\"text-align: right;\">\n",
       "      <th></th>\n",
       "      <th>title</th>\n",
       "      <th>string_list_data</th>\n",
       "      <th>Time of Like</th>\n",
       "      <th>Date of Like</th>\n",
       "      <th>href</th>\n",
       "    </tr>\n",
       "  </thead>\n",
       "  <tbody>\n",
       "    <tr>\n",
       "      <th>0</th>\n",
       "      <td>conangray</td>\n",
       "      <td>[{'href': 'https://www.instagram.com/p/DNyOvH8...</td>\n",
       "      <td>1756143885</td>\n",
       "      <td>2025-08-25 13:44:45</td>\n",
       "      <td>https://www.instagram.com/p/DNyOvH8XLQs/</td>\n",
       "    </tr>\n",
       "    <tr>\n",
       "      <th>1</th>\n",
       "      <td>caucasianmemer</td>\n",
       "      <td>[{'href': 'https://www.instagram.com/p/DNisltN...</td>\n",
       "      <td>1756132206</td>\n",
       "      <td>2025-08-25 10:30:06</td>\n",
       "      <td>https://www.instagram.com/p/DNisltNNbLa/</td>\n",
       "    </tr>\n",
       "    <tr>\n",
       "      <th>2</th>\n",
       "      <td>spookyhoagie</td>\n",
       "      <td>[{'href': 'https://www.instagram.com/p/DNR1RZY...</td>\n",
       "      <td>1756090081</td>\n",
       "      <td>2025-08-24 22:48:01</td>\n",
       "      <td>https://www.instagram.com/p/DNR1RZYNh_j/</td>\n",
       "    </tr>\n",
       "    <tr>\n",
       "      <th>3</th>\n",
       "      <td>gothictodie</td>\n",
       "      <td>[{'href': 'https://www.instagram.com/p/DNbINZR...</td>\n",
       "      <td>1756090013</td>\n",
       "      <td>2025-08-24 22:46:53</td>\n",
       "      <td>https://www.instagram.com/p/DNbINZRxq1q/</td>\n",
       "    </tr>\n",
       "    <tr>\n",
       "      <th>4</th>\n",
       "      <td>ceterralynn</td>\n",
       "      <td>[{'href': 'https://www.instagram.com/p/DNwov3D...</td>\n",
       "      <td>1756089975</td>\n",
       "      <td>2025-08-24 22:46:15</td>\n",
       "      <td>https://www.instagram.com/p/DNwov3D3JIV/</td>\n",
       "    </tr>\n",
       "  </tbody>\n",
       "</table>\n",
       "</div>"
      ],
      "text/plain": [
       "            title                                   string_list_data  \\\n",
       "0       conangray  [{'href': 'https://www.instagram.com/p/DNyOvH8...   \n",
       "1  caucasianmemer  [{'href': 'https://www.instagram.com/p/DNisltN...   \n",
       "2    spookyhoagie  [{'href': 'https://www.instagram.com/p/DNR1RZY...   \n",
       "3     gothictodie  [{'href': 'https://www.instagram.com/p/DNbINZR...   \n",
       "4     ceterralynn  [{'href': 'https://www.instagram.com/p/DNwov3D...   \n",
       "\n",
       "   Time of Like        Date of Like                                      href  \n",
       "0    1756143885 2025-08-25 13:44:45  https://www.instagram.com/p/DNyOvH8XLQs/  \n",
       "1    1756132206 2025-08-25 10:30:06  https://www.instagram.com/p/DNisltNNbLa/  \n",
       "2    1756090081 2025-08-24 22:48:01  https://www.instagram.com/p/DNR1RZYNh_j/  \n",
       "3    1756090013 2025-08-24 22:46:53  https://www.instagram.com/p/DNbINZRxq1q/  \n",
       "4    1756089975 2025-08-24 22:46:15  https://www.instagram.com/p/DNwov3D3JIV/  "
      ]
     },
     "execution_count": 138,
     "metadata": {},
     "output_type": "execute_result"
    }
   ],
   "source": [
    "df_tidy['href'] = [ i[0]['href'] for i in df_tidy['string_list_data']]\n",
    "df_tidy.head()"
   ]
  },
  {
   "cell_type": "code",
   "execution_count": 139,
   "id": "f3ca8b1a-b49f-4fcd-ac1f-f04c79f343e6",
   "metadata": {},
   "outputs": [
    {
     "data": {
      "text/html": [
       "<div>\n",
       "<style scoped>\n",
       "    .dataframe tbody tr th:only-of-type {\n",
       "        vertical-align: middle;\n",
       "    }\n",
       "\n",
       "    .dataframe tbody tr th {\n",
       "        vertical-align: top;\n",
       "    }\n",
       "\n",
       "    .dataframe thead th {\n",
       "        text-align: right;\n",
       "    }\n",
       "</style>\n",
       "<table border=\"1\" class=\"dataframe\">\n",
       "  <thead>\n",
       "    <tr style=\"text-align: right;\">\n",
       "      <th></th>\n",
       "      <th>title</th>\n",
       "      <th>string_list_data</th>\n",
       "      <th>Time of Like</th>\n",
       "      <th>Date of Like</th>\n",
       "      <th>href</th>\n",
       "      <th>value</th>\n",
       "    </tr>\n",
       "  </thead>\n",
       "  <tbody>\n",
       "    <tr>\n",
       "      <th>0</th>\n",
       "      <td>conangray</td>\n",
       "      <td>[{'href': 'https://www.instagram.com/p/DNyOvH8...</td>\n",
       "      <td>1756143885</td>\n",
       "      <td>2025-08-25 13:44:45</td>\n",
       "      <td>https://www.instagram.com/p/DNyOvH8XLQs/</td>\n",
       "      <td>ð</td>\n",
       "    </tr>\n",
       "    <tr>\n",
       "      <th>1</th>\n",
       "      <td>caucasianmemer</td>\n",
       "      <td>[{'href': 'https://www.instagram.com/p/DNisltN...</td>\n",
       "      <td>1756132206</td>\n",
       "      <td>2025-08-25 10:30:06</td>\n",
       "      <td>https://www.instagram.com/p/DNisltNNbLa/</td>\n",
       "      <td>ð</td>\n",
       "    </tr>\n",
       "    <tr>\n",
       "      <th>2</th>\n",
       "      <td>spookyhoagie</td>\n",
       "      <td>[{'href': 'https://www.instagram.com/p/DNR1RZY...</td>\n",
       "      <td>1756090081</td>\n",
       "      <td>2025-08-24 22:48:01</td>\n",
       "      <td>https://www.instagram.com/p/DNR1RZYNh_j/</td>\n",
       "      <td>ð</td>\n",
       "    </tr>\n",
       "    <tr>\n",
       "      <th>3</th>\n",
       "      <td>gothictodie</td>\n",
       "      <td>[{'href': 'https://www.instagram.com/p/DNbINZR...</td>\n",
       "      <td>1756090013</td>\n",
       "      <td>2025-08-24 22:46:53</td>\n",
       "      <td>https://www.instagram.com/p/DNbINZRxq1q/</td>\n",
       "      <td>ð</td>\n",
       "    </tr>\n",
       "    <tr>\n",
       "      <th>4</th>\n",
       "      <td>ceterralynn</td>\n",
       "      <td>[{'href': 'https://www.instagram.com/p/DNwov3D...</td>\n",
       "      <td>1756089975</td>\n",
       "      <td>2025-08-24 22:46:15</td>\n",
       "      <td>https://www.instagram.com/p/DNwov3D3JIV/</td>\n",
       "      <td>ð</td>\n",
       "    </tr>\n",
       "  </tbody>\n",
       "</table>\n",
       "</div>"
      ],
      "text/plain": [
       "            title                                   string_list_data  \\\n",
       "0       conangray  [{'href': 'https://www.instagram.com/p/DNyOvH8...   \n",
       "1  caucasianmemer  [{'href': 'https://www.instagram.com/p/DNisltN...   \n",
       "2    spookyhoagie  [{'href': 'https://www.instagram.com/p/DNR1RZY...   \n",
       "3     gothictodie  [{'href': 'https://www.instagram.com/p/DNbINZR...   \n",
       "4     ceterralynn  [{'href': 'https://www.instagram.com/p/DNwov3D...   \n",
       "\n",
       "   Time of Like        Date of Like                                      href  \\\n",
       "0    1756143885 2025-08-25 13:44:45  https://www.instagram.com/p/DNyOvH8XLQs/   \n",
       "1    1756132206 2025-08-25 10:30:06  https://www.instagram.com/p/DNisltNNbLa/   \n",
       "2    1756090081 2025-08-24 22:48:01  https://www.instagram.com/p/DNR1RZYNh_j/   \n",
       "3    1756090013 2025-08-24 22:46:53  https://www.instagram.com/p/DNbINZRxq1q/   \n",
       "4    1756089975 2025-08-24 22:46:15  https://www.instagram.com/p/DNwov3D3JIV/   \n",
       "\n",
       "  value  \n",
       "0  ð  \n",
       "1  ð  \n",
       "2  ð  \n",
       "3  ð  \n",
       "4  ð  "
      ]
     },
     "execution_count": 139,
     "metadata": {},
     "output_type": "execute_result"
    }
   ],
   "source": [
    "df_tidy['value'] = [ i[0]['value'] for i in df_tidy['string_list_data']]\n",
    "df_tidy.head()"
   ]
  },
  {
   "cell_type": "code",
   "execution_count": 140,
   "id": "6a8d1f2d-462a-4f2c-acb0-607011a84a28",
   "metadata": {},
   "outputs": [
    {
     "data": {
      "text/html": [
       "<div>\n",
       "<style scoped>\n",
       "    .dataframe tbody tr th:only-of-type {\n",
       "        vertical-align: middle;\n",
       "    }\n",
       "\n",
       "    .dataframe tbody tr th {\n",
       "        vertical-align: top;\n",
       "    }\n",
       "\n",
       "    .dataframe thead th {\n",
       "        text-align: right;\n",
       "    }\n",
       "</style>\n",
       "<table border=\"1\" class=\"dataframe\">\n",
       "  <thead>\n",
       "    <tr style=\"text-align: right;\">\n",
       "      <th></th>\n",
       "      <th>title</th>\n",
       "      <th>Time of Like</th>\n",
       "      <th>Date of Like</th>\n",
       "      <th>href</th>\n",
       "      <th>value</th>\n",
       "    </tr>\n",
       "  </thead>\n",
       "  <tbody>\n",
       "    <tr>\n",
       "      <th>0</th>\n",
       "      <td>conangray</td>\n",
       "      <td>1756143885</td>\n",
       "      <td>2025-08-25 13:44:45</td>\n",
       "      <td>https://www.instagram.com/p/DNyOvH8XLQs/</td>\n",
       "      <td>ð</td>\n",
       "    </tr>\n",
       "    <tr>\n",
       "      <th>1</th>\n",
       "      <td>caucasianmemer</td>\n",
       "      <td>1756132206</td>\n",
       "      <td>2025-08-25 10:30:06</td>\n",
       "      <td>https://www.instagram.com/p/DNisltNNbLa/</td>\n",
       "      <td>ð</td>\n",
       "    </tr>\n",
       "    <tr>\n",
       "      <th>2</th>\n",
       "      <td>spookyhoagie</td>\n",
       "      <td>1756090081</td>\n",
       "      <td>2025-08-24 22:48:01</td>\n",
       "      <td>https://www.instagram.com/p/DNR1RZYNh_j/</td>\n",
       "      <td>ð</td>\n",
       "    </tr>\n",
       "    <tr>\n",
       "      <th>3</th>\n",
       "      <td>gothictodie</td>\n",
       "      <td>1756090013</td>\n",
       "      <td>2025-08-24 22:46:53</td>\n",
       "      <td>https://www.instagram.com/p/DNbINZRxq1q/</td>\n",
       "      <td>ð</td>\n",
       "    </tr>\n",
       "    <tr>\n",
       "      <th>4</th>\n",
       "      <td>ceterralynn</td>\n",
       "      <td>1756089975</td>\n",
       "      <td>2025-08-24 22:46:15</td>\n",
       "      <td>https://www.instagram.com/p/DNwov3D3JIV/</td>\n",
       "      <td>ð</td>\n",
       "    </tr>\n",
       "    <tr>\n",
       "      <th>...</th>\n",
       "      <td>...</td>\n",
       "      <td>...</td>\n",
       "      <td>...</td>\n",
       "      <td>...</td>\n",
       "      <td>...</td>\n",
       "    </tr>\n",
       "    <tr>\n",
       "      <th>1441</th>\n",
       "      <td>howtobeatanxietyblog</td>\n",
       "      <td>1724769368</td>\n",
       "      <td>2024-08-27 10:36:08</td>\n",
       "      <td>https://www.instagram.com/p/C-3rKRJM_Je/</td>\n",
       "      <td>ð</td>\n",
       "    </tr>\n",
       "    <tr>\n",
       "      <th>1442</th>\n",
       "      <td>avamur1</td>\n",
       "      <td>1724769327</td>\n",
       "      <td>2024-08-27 10:35:27</td>\n",
       "      <td>https://www.instagram.com/p/C_DyNUtRxK7/</td>\n",
       "      <td>ð</td>\n",
       "    </tr>\n",
       "    <tr>\n",
       "      <th>1443</th>\n",
       "      <td>sydroche</td>\n",
       "      <td>1724767199</td>\n",
       "      <td>2024-08-27 09:59:59</td>\n",
       "      <td>https://www.instagram.com/p/C_HbVr2tnVD/</td>\n",
       "      <td>ð</td>\n",
       "    </tr>\n",
       "    <tr>\n",
       "      <th>1444</th>\n",
       "      <td>maybrittduwel</td>\n",
       "      <td>1724763690</td>\n",
       "      <td>2024-08-27 09:01:30</td>\n",
       "      <td>https://www.instagram.com/p/C_JpZu7Pm5V/</td>\n",
       "      <td>ð</td>\n",
       "    </tr>\n",
       "    <tr>\n",
       "      <th>1445</th>\n",
       "      <td>brookeschwerha</td>\n",
       "      <td>1724627184</td>\n",
       "      <td>2024-08-25 19:06:24</td>\n",
       "      <td>https://www.instagram.com/p/C_GhUshv6tn/</td>\n",
       "      <td>ð</td>\n",
       "    </tr>\n",
       "  </tbody>\n",
       "</table>\n",
       "<p>1446 rows × 5 columns</p>\n",
       "</div>"
      ],
      "text/plain": [
       "                     title  Time of Like        Date of Like  \\\n",
       "0                conangray    1756143885 2025-08-25 13:44:45   \n",
       "1           caucasianmemer    1756132206 2025-08-25 10:30:06   \n",
       "2             spookyhoagie    1756090081 2025-08-24 22:48:01   \n",
       "3              gothictodie    1756090013 2025-08-24 22:46:53   \n",
       "4              ceterralynn    1756089975 2025-08-24 22:46:15   \n",
       "...                    ...           ...                 ...   \n",
       "1441  howtobeatanxietyblog    1724769368 2024-08-27 10:36:08   \n",
       "1442               avamur1    1724769327 2024-08-27 10:35:27   \n",
       "1443              sydroche    1724767199 2024-08-27 09:59:59   \n",
       "1444         maybrittduwel    1724763690 2024-08-27 09:01:30   \n",
       "1445        brookeschwerha    1724627184 2024-08-25 19:06:24   \n",
       "\n",
       "                                          href value  \n",
       "0     https://www.instagram.com/p/DNyOvH8XLQs/  ð  \n",
       "1     https://www.instagram.com/p/DNisltNNbLa/  ð  \n",
       "2     https://www.instagram.com/p/DNR1RZYNh_j/  ð  \n",
       "3     https://www.instagram.com/p/DNbINZRxq1q/  ð  \n",
       "4     https://www.instagram.com/p/DNwov3D3JIV/  ð  \n",
       "...                                        ...   ...  \n",
       "1441  https://www.instagram.com/p/C-3rKRJM_Je/  ð  \n",
       "1442  https://www.instagram.com/p/C_DyNUtRxK7/  ð  \n",
       "1443  https://www.instagram.com/p/C_HbVr2tnVD/  ð  \n",
       "1444  https://www.instagram.com/p/C_JpZu7Pm5V/  ð  \n",
       "1445  https://www.instagram.com/p/C_GhUshv6tn/  ð  \n",
       "\n",
       "[1446 rows x 5 columns]"
      ]
     },
     "execution_count": 140,
     "metadata": {},
     "output_type": "execute_result"
    }
   ],
   "source": [
    "df_tidy.drop(columns = ['string_list_data'])"
   ]
  },
  {
   "cell_type": "markdown",
   "id": "4c04497b-54d1-4ff9-bdc2-fbe774c91a4f",
   "metadata": {},
   "source": [
    "## Section 5 "
   ]
  },
  {
   "cell_type": "code",
   "execution_count": 141,
   "id": "c9c1732c-6fcd-49df-8281-6d61abd6bd04",
   "metadata": {},
   "outputs": [
    {
     "data": {
      "text/html": [
       "<div>\n",
       "<style scoped>\n",
       "    .dataframe tbody tr th:only-of-type {\n",
       "        vertical-align: middle;\n",
       "    }\n",
       "\n",
       "    .dataframe tbody tr th {\n",
       "        vertical-align: top;\n",
       "    }\n",
       "\n",
       "    .dataframe thead th {\n",
       "        text-align: right;\n",
       "    }\n",
       "</style>\n",
       "<table border=\"1\" class=\"dataframe\">\n",
       "  <thead>\n",
       "    <tr style=\"text-align: right;\">\n",
       "      <th></th>\n",
       "      <th>string_list_data</th>\n",
       "      <th>Time of Like</th>\n",
       "      <th>Date of Like</th>\n",
       "      <th>href</th>\n",
       "      <th>value</th>\n",
       "    </tr>\n",
       "    <tr>\n",
       "      <th>title</th>\n",
       "      <th></th>\n",
       "      <th></th>\n",
       "      <th></th>\n",
       "      <th></th>\n",
       "      <th></th>\n",
       "    </tr>\n",
       "  </thead>\n",
       "  <tbody>\n",
       "    <tr>\n",
       "      <th>irckentstate</th>\n",
       "      <td>24</td>\n",
       "      <td>24</td>\n",
       "      <td>24</td>\n",
       "      <td>24</td>\n",
       "      <td>24</td>\n",
       "    </tr>\n",
       "    <tr>\n",
       "      <th>dspbetapi</th>\n",
       "      <td>22</td>\n",
       "      <td>22</td>\n",
       "      <td>22</td>\n",
       "      <td>22</td>\n",
       "      <td>22</td>\n",
       "    </tr>\n",
       "    <tr>\n",
       "      <th>conangray</th>\n",
       "      <td>17</td>\n",
       "      <td>17</td>\n",
       "      <td>17</td>\n",
       "      <td>17</td>\n",
       "      <td>17</td>\n",
       "    </tr>\n",
       "    <tr>\n",
       "      <th>emiliah_spam_</th>\n",
       "      <td>16</td>\n",
       "      <td>16</td>\n",
       "      <td>16</td>\n",
       "      <td>16</td>\n",
       "      <td>16</td>\n",
       "    </tr>\n",
       "    <tr>\n",
       "      <th>alainapelland</th>\n",
       "      <td>15</td>\n",
       "      <td>15</td>\n",
       "      <td>15</td>\n",
       "      <td>15</td>\n",
       "      <td>15</td>\n",
       "    </tr>\n",
       "    <tr>\n",
       "      <th>...</th>\n",
       "      <td>...</td>\n",
       "      <td>...</td>\n",
       "      <td>...</td>\n",
       "      <td>...</td>\n",
       "      <td>...</td>\n",
       "    </tr>\n",
       "    <tr>\n",
       "      <th>graykeeler</th>\n",
       "      <td>1</td>\n",
       "      <td>1</td>\n",
       "      <td>1</td>\n",
       "      <td>1</td>\n",
       "      <td>1</td>\n",
       "    </tr>\n",
       "    <tr>\n",
       "      <th>greensandbeansdeli</th>\n",
       "      <td>1</td>\n",
       "      <td>1</td>\n",
       "      <td>1</td>\n",
       "      <td>1</td>\n",
       "      <td>1</td>\n",
       "    </tr>\n",
       "    <tr>\n",
       "      <th>gregorreynolds</th>\n",
       "      <td>1</td>\n",
       "      <td>1</td>\n",
       "      <td>1</td>\n",
       "      <td>1</td>\n",
       "      <td>1</td>\n",
       "    </tr>\n",
       "    <tr>\n",
       "      <th>gretahelgerthh</th>\n",
       "      <td>1</td>\n",
       "      <td>1</td>\n",
       "      <td>1</td>\n",
       "      <td>1</td>\n",
       "      <td>1</td>\n",
       "    </tr>\n",
       "    <tr>\n",
       "      <th>zoepeifer</th>\n",
       "      <td>1</td>\n",
       "      <td>1</td>\n",
       "      <td>1</td>\n",
       "      <td>1</td>\n",
       "      <td>1</td>\n",
       "    </tr>\n",
       "  </tbody>\n",
       "</table>\n",
       "<p>916 rows × 5 columns</p>\n",
       "</div>"
      ],
      "text/plain": [
       "                    string_list_data  Time of Like  Date of Like  href  value\n",
       "title                                                                        \n",
       "irckentstate                      24            24            24    24     24\n",
       "dspbetapi                         22            22            22    22     22\n",
       "conangray                         17            17            17    17     17\n",
       "emiliah_spam_                     16            16            16    16     16\n",
       "alainapelland                     15            15            15    15     15\n",
       "...                              ...           ...           ...   ...    ...\n",
       "graykeeler                         1             1             1     1      1\n",
       "greensandbeansdeli                 1             1             1     1      1\n",
       "gregorreynolds                     1             1             1     1      1\n",
       "gretahelgerthh                     1             1             1     1      1\n",
       "zoepeifer                          1             1             1     1      1\n",
       "\n",
       "[916 rows x 5 columns]"
      ]
     },
     "execution_count": 141,
     "metadata": {},
     "output_type": "execute_result"
    }
   ],
   "source": [
    "df_tidy.groupby('title').count().sort_values('Time of Like', ascending = False)"
   ]
  },
  {
   "cell_type": "markdown",
   "id": "f106be7f-5efd-4290-b384-e37b8d3ce732",
   "metadata": {},
   "source": [
    "## Section 6"
   ]
  },
  {
   "cell_type": "markdown",
   "id": "f0243ab1-fa35-4ccf-b0f8-54bb76275f30",
   "metadata": {},
   "source": [
    "##### Hypothesis : \n",
    "\n",
    "I click on more ads from instagram during the nighttime instead of early on in the day.\n",
    "\n",
    "Null(H0):There is not a difference in number of Instagram ad clicks from night and morning.\n",
    "\n",
    "Alternate (H1): There are more Instagram ad clicks in night than in morning.\n",
    "\n",
    "The independent variable for this is the time of the day (morning or night). The Dependant variable is if the ad is clicked on. Some theoretical elements and what may have an effect on the number of clicks and time of day include that I spend more time on instagram during night, there is a lower sense of self control at night time when I am thinking less, which makes me more inclined to click on an ad. \n"
   ]
  },
  {
   "cell_type": "markdown",
   "id": "0cc1f7fb-f898-4692-91cc-1dae1e72efdb",
   "metadata": {},
   "source": [
    "## Section 7"
   ]
  },
  {
   "cell_type": "markdown",
   "id": "f377a94e-ab09-4e69-ba6e-7d0fa2d5f948",
   "metadata": {},
   "source": [
    "For my hypothesis, I will be using the ads_clicked.json file. This file contains the information on the ads I get on my instagram feed, and which ones I click on such as the time, date, and website of the ad interaction. This file will help my test my hypothesis as I can filter it and create a table, in order to check the data and find the most common time that I click on ads from instagram. I will be able to use this data to prove either my null or alternate hypothesis. "
   ]
  },
  {
   "cell_type": "markdown",
   "id": "c8e45132-cb6d-4548-ad2a-ee97b7f85e5b",
   "metadata": {},
   "source": [
    "## Section 8"
   ]
  },
  {
   "cell_type": "code",
   "execution_count": 156,
   "id": "7a2e13bd-10e9-4f16-82aa-369491b02ad6",
   "metadata": {},
   "outputs": [],
   "source": [
    "path = r\"/Users/alainanorris/Downloads/instagram-_alainanorris_-2025-08-25-DX2wxAXH 2/ads_information/ads_and_topics/ads_clicked.json\"\n",
    "with open(path) as l:\n",
    "    data = json.load(l) "
   ]
  },
  {
   "cell_type": "code",
   "execution_count": 175,
   "id": "4e24dc26-5294-4cad-bfcf-9c28f88f9e82",
   "metadata": {},
   "outputs": [
    {
     "data": {
      "text/html": [
       "<div>\n",
       "<style scoped>\n",
       "    .dataframe tbody tr th:only-of-type {\n",
       "        vertical-align: middle;\n",
       "    }\n",
       "\n",
       "    .dataframe tbody tr th {\n",
       "        vertical-align: top;\n",
       "    }\n",
       "\n",
       "    .dataframe thead th {\n",
       "        text-align: right;\n",
       "    }\n",
       "</style>\n",
       "<table border=\"1\" class=\"dataframe\">\n",
       "  <thead>\n",
       "    <tr style=\"text-align: right;\">\n",
       "      <th></th>\n",
       "      <th>impressions_history_ads_clicked</th>\n",
       "    </tr>\n",
       "  </thead>\n",
       "  <tbody>\n",
       "    <tr>\n",
       "      <th>0</th>\n",
       "      <td>{'title': 'Limited time discount ð£', 'strin...</td>\n",
       "    </tr>\n",
       "    <tr>\n",
       "      <th>1</th>\n",
       "      <td>{'title': 'Meet with Missionaries', 'string_li...</td>\n",
       "    </tr>\n",
       "    <tr>\n",
       "      <th>2</th>\n",
       "      <td>{'title': '{{product.name}}', 'string_list_dat...</td>\n",
       "    </tr>\n",
       "    <tr>\n",
       "      <th>3</th>\n",
       "      <td>{'title': 'TRYOUTS | Layne Volleyball Clu', 's...</td>\n",
       "    </tr>\n",
       "  </tbody>\n",
       "</table>\n",
       "</div>"
      ],
      "text/plain": [
       "                     impressions_history_ads_clicked\n",
       "0  {'title': 'Limited time discount ð£', 'strin...\n",
       "1  {'title': 'Meet with Missionaries', 'string_li...\n",
       "2  {'title': '{{product.name}}', 'string_list_dat...\n",
       "3  {'title': 'TRYOUTS | Layne Volleyball Clu', 's..."
      ]
     },
     "execution_count": 175,
     "metadata": {},
     "output_type": "execute_result"
    }
   ],
   "source": [
    "df = pd.DataFrame(data)\n",
    "df.head(10)"
   ]
  },
  {
   "cell_type": "code",
   "execution_count": 165,
   "id": "f2f8581e-fbf5-412f-b7fb-02b375c82dbd",
   "metadata": {},
   "outputs": [
    {
     "data": {
      "text/plain": [
       "dict_keys(['impressions_history_ads_clicked'])"
      ]
     },
     "execution_count": 165,
     "metadata": {},
     "output_type": "execute_result"
    }
   ],
   "source": [
    "data.keys()"
   ]
  },
  {
   "cell_type": "code",
   "execution_count": 176,
   "id": "9d0cb942-e47c-4aa3-9cd5-d91e66ed93a4",
   "metadata": {},
   "outputs": [
    {
     "data": {
      "text/html": [
       "<div>\n",
       "<style scoped>\n",
       "    .dataframe tbody tr th:only-of-type {\n",
       "        vertical-align: middle;\n",
       "    }\n",
       "\n",
       "    .dataframe tbody tr th {\n",
       "        vertical-align: top;\n",
       "    }\n",
       "\n",
       "    .dataframe thead th {\n",
       "        text-align: right;\n",
       "    }\n",
       "</style>\n",
       "<table border=\"1\" class=\"dataframe\">\n",
       "  <thead>\n",
       "    <tr style=\"text-align: right;\">\n",
       "      <th></th>\n",
       "      <th>title</th>\n",
       "      <th>string_list_data</th>\n",
       "    </tr>\n",
       "  </thead>\n",
       "  <tbody>\n",
       "    <tr>\n",
       "      <th>0</th>\n",
       "      <td>Limited time discount ð£</td>\n",
       "      <td>[{'timestamp': 1755570112}]</td>\n",
       "    </tr>\n",
       "    <tr>\n",
       "      <th>1</th>\n",
       "      <td>Meet with Missionaries</td>\n",
       "      <td>[{'timestamp': 1756005030}]</td>\n",
       "    </tr>\n",
       "    <tr>\n",
       "      <th>2</th>\n",
       "      <td>{{product.name}}</td>\n",
       "      <td>[{'timestamp': 1756049106}]</td>\n",
       "    </tr>\n",
       "    <tr>\n",
       "      <th>3</th>\n",
       "      <td>TRYOUTS | Layne Volleyball Clu</td>\n",
       "      <td>[{'timestamp': 1756072657}]</td>\n",
       "    </tr>\n",
       "  </tbody>\n",
       "</table>\n",
       "</div>"
      ],
      "text/plain": [
       "                            title             string_list_data\n",
       "0      Limited time discount ð£  [{'timestamp': 1755570112}]\n",
       "1          Meet with Missionaries  [{'timestamp': 1756005030}]\n",
       "2                {{product.name}}  [{'timestamp': 1756049106}]\n",
       "3  TRYOUTS | Layne Volleyball Clu  [{'timestamp': 1756072657}]"
      ]
     },
     "execution_count": 176,
     "metadata": {},
     "output_type": "execute_result"
    }
   ],
   "source": [
    "df = pd.DataFrame(data['impressions_history_ads_clicked'])\n",
    "df.head(10)"
   ]
  },
  {
   "cell_type": "code",
   "execution_count": 189,
   "id": "4687593f-5f37-4f50-a7b5-0c7ec9a2bc7a",
   "metadata": {},
   "outputs": [
    {
     "name": "stdout",
     "output_type": "stream",
     "text": [
      "Number of rows: 4\n",
      "Shape (rows, columns): (4, 2)\n",
      "                            title             string_list_data\n",
      "0      Limited time discount ð£  [{'timestamp': 1755570112}]\n",
      "1          Meet with Missionaries  [{'timestamp': 1756005030}]\n",
      "2                {{product.name}}  [{'timestamp': 1756049106}]\n",
      "3  TRYOUTS | Layne Volleyball Clu  [{'timestamp': 1756072657}]\n"
     ]
    }
   ],
   "source": [
    "df_tidy = pd.DataFrame(data['impressions_history_ads_clicked'])\n",
    "\n",
    "# Check how many rows and columns you have\n",
    "print(\"Number of rows:\", len(df_tidy))\n",
    "print(\"Shape (rows, columns):\", df_tidy.shape)\n",
    "\n",
    "# Preview the first 10 rows\n",
    "print(df_tidy.head(10))\n"
   ]
  },
  {
   "cell_type": "code",
   "execution_count": 190,
   "id": "1e7f3450-d74b-4edf-afe6-ee97f48dc1b5",
   "metadata": {},
   "outputs": [],
   "source": [
    "from datetime import datetime\n",
    "df_tidy['Date of Like'] = [datetime.fromtimestamp(i[0]['timestamp']) for i in df_tidy['string_list_data']]"
   ]
  },
  {
   "cell_type": "code",
   "execution_count": 191,
   "id": "1087609c-d22b-4e7a-955d-afe7a4cca102",
   "metadata": {},
   "outputs": [
    {
     "data": {
      "text/html": [
       "<div>\n",
       "<style scoped>\n",
       "    .dataframe tbody tr th:only-of-type {\n",
       "        vertical-align: middle;\n",
       "    }\n",
       "\n",
       "    .dataframe tbody tr th {\n",
       "        vertical-align: top;\n",
       "    }\n",
       "\n",
       "    .dataframe thead th {\n",
       "        text-align: right;\n",
       "    }\n",
       "</style>\n",
       "<table border=\"1\" class=\"dataframe\">\n",
       "  <thead>\n",
       "    <tr style=\"text-align: right;\">\n",
       "      <th></th>\n",
       "      <th>title</th>\n",
       "      <th>string_list_data</th>\n",
       "    </tr>\n",
       "  </thead>\n",
       "  <tbody>\n",
       "    <tr>\n",
       "      <th>0</th>\n",
       "      <td>Limited time discount ð£</td>\n",
       "      <td>[{'timestamp': 1755570112}]</td>\n",
       "    </tr>\n",
       "    <tr>\n",
       "      <th>1</th>\n",
       "      <td>Meet with Missionaries</td>\n",
       "      <td>[{'timestamp': 1756005030}]</td>\n",
       "    </tr>\n",
       "    <tr>\n",
       "      <th>2</th>\n",
       "      <td>{{product.name}}</td>\n",
       "      <td>[{'timestamp': 1756049106}]</td>\n",
       "    </tr>\n",
       "    <tr>\n",
       "      <th>3</th>\n",
       "      <td>TRYOUTS | Layne Volleyball Clu</td>\n",
       "      <td>[{'timestamp': 1756072657}]</td>\n",
       "    </tr>\n",
       "  </tbody>\n",
       "</table>\n",
       "</div>"
      ],
      "text/plain": [
       "                            title             string_list_data\n",
       "0      Limited time discount ð£  [{'timestamp': 1755570112}]\n",
       "1          Meet with Missionaries  [{'timestamp': 1756005030}]\n",
       "2                {{product.name}}  [{'timestamp': 1756049106}]\n",
       "3  TRYOUTS | Layne Volleyball Clu  [{'timestamp': 1756072657}]"
      ]
     },
     "execution_count": 191,
     "metadata": {},
     "output_type": "execute_result"
    }
   ],
   "source": [
    "df_ads.head()"
   ]
  },
  {
   "cell_type": "code",
   "execution_count": 192,
   "id": "b7dd8d38-e09a-4894-bae7-f963e2403f74",
   "metadata": {},
   "outputs": [
    {
     "data": {
      "text/html": [
       "<div>\n",
       "<style scoped>\n",
       "    .dataframe tbody tr th:only-of-type {\n",
       "        vertical-align: middle;\n",
       "    }\n",
       "\n",
       "    .dataframe tbody tr th {\n",
       "        vertical-align: top;\n",
       "    }\n",
       "\n",
       "    .dataframe thead th {\n",
       "        text-align: right;\n",
       "    }\n",
       "</style>\n",
       "<table border=\"1\" class=\"dataframe\">\n",
       "  <thead>\n",
       "    <tr style=\"text-align: right;\">\n",
       "      <th></th>\n",
       "      <th>title</th>\n",
       "      <th>Date of Like</th>\n",
       "    </tr>\n",
       "  </thead>\n",
       "  <tbody>\n",
       "    <tr>\n",
       "      <th>0</th>\n",
       "      <td>Limited time discount ð£</td>\n",
       "      <td>2025-08-18 22:21:52</td>\n",
       "    </tr>\n",
       "    <tr>\n",
       "      <th>1</th>\n",
       "      <td>Meet with Missionaries</td>\n",
       "      <td>2025-08-23 23:10:30</td>\n",
       "    </tr>\n",
       "    <tr>\n",
       "      <th>2</th>\n",
       "      <td>{{product.name}}</td>\n",
       "      <td>2025-08-24 11:25:06</td>\n",
       "    </tr>\n",
       "    <tr>\n",
       "      <th>3</th>\n",
       "      <td>TRYOUTS | Layne Volleyball Clu</td>\n",
       "      <td>2025-08-24 17:57:37</td>\n",
       "    </tr>\n",
       "  </tbody>\n",
       "</table>\n",
       "</div>"
      ],
      "text/plain": [
       "                            title        Date of Like\n",
       "0      Limited time discount ð£ 2025-08-18 22:21:52\n",
       "1          Meet with Missionaries 2025-08-23 23:10:30\n",
       "2                {{product.name}} 2025-08-24 11:25:06\n",
       "3  TRYOUTS | Layne Volleyball Clu 2025-08-24 17:57:37"
      ]
     },
     "execution_count": 192,
     "metadata": {},
     "output_type": "execute_result"
    }
   ],
   "source": [
    "df_tidy.drop(columns = ['string_list_data'])"
   ]
  },
  {
   "cell_type": "code",
   "execution_count": 193,
   "id": "4d3ca29c-fd4e-4313-aab8-a41ebd37540b",
   "metadata": {},
   "outputs": [
    {
     "data": {
      "text/html": [
       "<div>\n",
       "<style scoped>\n",
       "    .dataframe tbody tr th:only-of-type {\n",
       "        vertical-align: middle;\n",
       "    }\n",
       "\n",
       "    .dataframe tbody tr th {\n",
       "        vertical-align: top;\n",
       "    }\n",
       "\n",
       "    .dataframe thead th {\n",
       "        text-align: right;\n",
       "    }\n",
       "</style>\n",
       "<table border=\"1\" class=\"dataframe\">\n",
       "  <thead>\n",
       "    <tr style=\"text-align: right;\">\n",
       "      <th></th>\n",
       "      <th>title</th>\n",
       "      <th>string_list_data</th>\n",
       "      <th>Date of Like</th>\n",
       "    </tr>\n",
       "  </thead>\n",
       "  <tbody>\n",
       "    <tr>\n",
       "      <th>0</th>\n",
       "      <td>Limited time discount ð£</td>\n",
       "      <td>[{'timestamp': 1755570112}]</td>\n",
       "      <td>2025-08-18 22:21:52</td>\n",
       "    </tr>\n",
       "    <tr>\n",
       "      <th>1</th>\n",
       "      <td>Meet with Missionaries</td>\n",
       "      <td>[{'timestamp': 1756005030}]</td>\n",
       "      <td>2025-08-23 23:10:30</td>\n",
       "    </tr>\n",
       "    <tr>\n",
       "      <th>2</th>\n",
       "      <td>{{product.name}}</td>\n",
       "      <td>[{'timestamp': 1756049106}]</td>\n",
       "      <td>2025-08-24 11:25:06</td>\n",
       "    </tr>\n",
       "    <tr>\n",
       "      <th>3</th>\n",
       "      <td>TRYOUTS | Layne Volleyball Clu</td>\n",
       "      <td>[{'timestamp': 1756072657}]</td>\n",
       "      <td>2025-08-24 17:57:37</td>\n",
       "    </tr>\n",
       "  </tbody>\n",
       "</table>\n",
       "</div>"
      ],
      "text/plain": [
       "                            title             string_list_data  \\\n",
       "0      Limited time discount ð£  [{'timestamp': 1755570112}]   \n",
       "1          Meet with Missionaries  [{'timestamp': 1756005030}]   \n",
       "2                {{product.name}}  [{'timestamp': 1756049106}]   \n",
       "3  TRYOUTS | Layne Volleyball Clu  [{'timestamp': 1756072657}]   \n",
       "\n",
       "         Date of Like  \n",
       "0 2025-08-18 22:21:52  \n",
       "1 2025-08-23 23:10:30  \n",
       "2 2025-08-24 11:25:06  \n",
       "3 2025-08-24 17:57:37  "
      ]
     },
     "execution_count": 193,
     "metadata": {},
     "output_type": "execute_result"
    }
   ],
   "source": [
    "df_tidy.head(10)"
   ]
  },
  {
   "cell_type": "markdown",
   "id": "73e77e65-bd16-49b2-bae5-9f4df4766e19",
   "metadata": {},
   "source": [
    "## Section 9 \n",
    "\n",
    "Above is the tidy version of the DataFrame, when I messed around with the code and could not get it to display 10 rows after an hour of trying to fix it, I checked the number of rows in the data and it shows that there is only 4, I am not sure if this is an error on my end or not, but I continued on with the steps just using 4 rows insteasd of 10, since I could not get 10. I did use the dataframe and head() methods. "
   ]
  },
  {
   "cell_type": "markdown",
   "id": "06de542e-28fd-4edf-bc6c-78837bd2fda3",
   "metadata": {
    "jp-MarkdownHeadingCollapsed": true
   },
   "source": [
    "## Section 10\n",
    "\n",
    "The data I have used above shows the ads I have clicked on, example \"limited time discount, tryouts\". I was not able to get more than four rows to show up in my dataset, even though I tried for a very long time. However, with the data I was able to get you can still see the times which I clicked on the ads. This is what I will be using for my hypothesis. I do believe that my dataframe meets the principles and requirements, and I am able to use this data for my hypothesis. From the 4 ads I clicked on, the time stamps (converted to a 12-hour clock) include the times : 10:21pm, 11:10pm, 11:25am, and 5:57pm. This shows that there are 2 data points of ads I clicked on late at night, one in the evening, and one from morning/ afternoon. This does support that I click on more ads later in the night. "
   ]
  },
  {
   "cell_type": "markdown",
   "id": "c14df007-d11a-4226-b321-475516dfd85a",
   "metadata": {},
   "source": [
    "## Summary"
   ]
  },
  {
   "cell_type": "markdown",
   "id": "bf13a5bd-c408-4110-9784-77c34cfc9363",
   "metadata": {},
   "source": [
    "Based on the data I was able to analyze, I can conclude that it is more common for me to click on ads from instagram when it is later on in the night, as opposed to earlier in the day. I was able to get a table of data which shows that the ads I clicked on happened at 10:21pm, 11:10pm, 11:25am, and 5:57pm. This supports the alternate hypothesis that \"There are more Instagram ad clicks in night than in morning.\"  One of the limitations of this dataset was that I was only able to get 4 rows in my table, and was not able to figure out how to expand this to 10 or more rows and data. This does limit my conclusion ability , as I have less data to work with. Having more data to work with means that I have a better conclusion and more evidence to back it up. An alternative approach I could have taken was finding a different dataset to work with, but I feel as though this one strongly worked with my claim. A next potential step for me would be work with the professor or attempt to figure out if my dataset truly only has 4 rows, or if not, why I am unable to see 10+. "
   ]
  },
  {
   "cell_type": "code",
   "execution_count": null,
   "id": "d28d98f2-865e-407d-a567-991642875d40",
   "metadata": {},
   "outputs": [],
   "source": []
  }
 ],
 "metadata": {
  "kernelspec": {
   "display_name": "Python [conda env:base] *",
   "language": "python",
   "name": "conda-base-py"
  },
  "language_info": {
   "codemirror_mode": {
    "name": "ipython",
    "version": 3
   },
   "file_extension": ".py",
   "mimetype": "text/x-python",
   "name": "python",
   "nbconvert_exporter": "python",
   "pygments_lexer": "ipython3",
   "version": "3.13.5"
  }
 },
 "nbformat": 4,
 "nbformat_minor": 5
}
